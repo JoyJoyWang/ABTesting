{
 "cells": [
  {
   "cell_type": "markdown",
   "metadata": {},
   "source": [
    "# ORIE 5355/INFO 5370 HW 4: Experimentation"
   ]
  },
  {
   "cell_type": "markdown",
   "metadata": {},
   "source": [
    " - Name: Joy Wang\n",
    " - Net-id: zw673\n",
    " - Date: Oct 30\n",
    " - Late days used for this assignment: 0 \n",
    " - Total late days used (counting this assignment): 1\n",
    " - People with whom you discussed this assignment: "
   ]
  },
  {
   "cell_type": "markdown",
   "metadata": {},
   "source": [
    "After you finish the homework, please complete the following (short, anonymous) post-homework survey: https://forms.gle/bksANDh9kJitim2j9 and include the survey completion code below."
   ]
  },
  {
   "cell_type": "markdown",
   "metadata": {},
   "source": [
    "### Question 0 [1 points]\n",
    "<font color='green'> Survey completion code: hw4_2021dfg"
   ]
  },
  {
   "cell_type": "markdown",
   "metadata": {},
   "source": [
    "# Conceptual component [4 points]"
   ]
  },
  {
   "cell_type": "markdown",
   "metadata": {},
   "source": [
    "### Personal reflection"
   ]
  },
  {
   "cell_type": "markdown",
   "metadata": {},
   "source": [
    "<font color='green'> Think back to a time that you wanted to evaluate an idea or product. If you have not had such an idea before, you may answer these questions about an article in the news that reported such a feature, or a feature that you think might be in deployment at a company or organization with which you interact (for example, Amazon, Google, Facebook, etc). "
   ]
  },
  {
   "cell_type": "markdown",
   "metadata": {},
   "source": [
    "<font color='green'> Briefly summarize the scenario in no more than two sentences. "
   ]
  },
  {
   "cell_type": "markdown",
   "metadata": {},
   "source": [
    "I guess Amazon may test different UI interfaces to get higher click rate. In this case, they would conduct A/B testing."
   ]
  },
  {
   "cell_type": "markdown",
   "metadata": {},
   "source": [
    "<font color='green'> What was the objective that you cared about/wanted to optimize with the product/idea? What was the measurement that you could feasibly measure during the experimental period? In what ways did the measurement not match the objective you cared about? Answer in no more than 3 sentences.  "
   ]
  },
  {
   "cell_type": "markdown",
   "metadata": {},
   "source": [
    "The objective is the the click rate. We can measure the percentage of people who click on the product from the main page in two different UI designs. The measurement does not match the objective when peeks."
   ]
  },
  {
   "cell_type": "markdown",
   "metadata": {},
   "source": [
    "<font color='green'> Did the setting have interference (such as due to a network setting, interference through a 2 sided marketplace or capacity constraints, etc.)? If so, how did it effect your experimental design and results? If your answer is no, why are you sure that such interference did not happen? Answer in no more than 3 sentences.  "
   ]
  },
  {
   "cell_type": "markdown",
   "metadata": {},
   "source": [
    "I think there is interference.If one person's friends get new UI interface and click into detailed pages of certain products, he or she probably recommends this product to his or her friends, so that the person might have higher click rate to some product even though the UI interface is the old one. People are influenced by their social networks."
   ]
  },
  {
   "cell_type": "markdown",
   "metadata": {},
   "source": [
    "<font color='green'> Given what we have learned in class so far, what would you do differently if faced with the same scenario again? Answer in no more than 3 sentences. "
   ]
  },
  {
   "cell_type": "markdown",
   "metadata": {},
   "source": [
    "Change the unit of randomization: randomize clusters instead of individuals. For example, algorithmically find many regions with strong connections inside and weak connection outside, and then assign half of them treatment, and the \n",
    "other half control."
   ]
  },
  {
   "cell_type": "markdown",
   "metadata": {},
   "source": [
    "# Programming component"
   ]
  },
  {
   "cell_type": "markdown",
   "metadata": {},
   "source": [
    "## Helper code"
   ]
  },
  {
   "cell_type": "code",
   "execution_count": 1,
   "metadata": {},
   "outputs": [],
   "source": [
    "import numpy as np\n",
    "import pandas as pd\n",
    "import os, sys, math\n",
    "import matplotlib.pyplot as plt"
   ]
  },
  {
   "cell_type": "code",
   "execution_count": 2,
   "metadata": {},
   "outputs": [],
   "source": [
    "df_headlines = pd.read_csv('headline-experiment-heds.csv')\n",
    "df = pd.read_csv('headline-experiment-impressions.csv')"
   ]
  },
  {
   "cell_type": "code",
   "execution_count": 3,
   "metadata": {},
   "outputs": [
    {
     "name": "stdout",
     "output_type": "stream",
     "text": [
      "She's Not Just Destined For Greatness, She's Destined To Do Great Things For Women\n",
      "This Young Woman Just Took Silicon Valley By Storm And She's Not Stopping There\n",
      "Feminism 101: This Girl Is Going Places And She's Taking Other Girls With Her \n",
      "Remember When Math Was \"Too Hard\" For The Ladies? Not So Much.\n"
     ]
    }
   ],
   "source": [
    "for x in df_headlines.hed:\n",
    "    print(x)"
   ]
  },
  {
   "cell_type": "code",
   "execution_count": 4,
   "metadata": {},
   "outputs": [
    {
     "name": "stdout",
     "output_type": "stream",
     "text": [
      "<class 'pandas.core.frame.DataFrame'>\n",
      "RangeIndex: 14950 entries, 0 to 14949\n",
      "Data columns (total 2 columns):\n",
      " #   Column  Non-Null Count  Dtype\n",
      "---  ------  --------------  -----\n",
      " 0   hed     14950 non-null  int64\n",
      " 1   click   14950 non-null  int64\n",
      "dtypes: int64(2)\n",
      "memory usage: 233.7 KB\n"
     ]
    }
   ],
   "source": [
    "df.info()"
   ]
  },
  {
   "cell_type": "code",
   "execution_count": 5,
   "metadata": {},
   "outputs": [
    {
     "data": {
      "text/plain": [
       "3    3763\n",
       "1    3756\n",
       "4    3737\n",
       "2    3694\n",
       "Name: hed, dtype: int64"
      ]
     },
     "execution_count": 5,
     "metadata": {},
     "output_type": "execute_result"
    }
   ],
   "source": [
    "df.hed.value_counts()"
   ]
  },
  {
   "cell_type": "code",
   "execution_count": 6,
   "metadata": {},
   "outputs": [
    {
     "data": {
      "text/plain": [
       "hed\n",
       "1    0.010650\n",
       "2    0.006497\n",
       "3    0.010098\n",
       "4    0.004549\n",
       "Name: click, dtype: float64"
      ]
     },
     "execution_count": 6,
     "metadata": {},
     "output_type": "execute_result"
    }
   ],
   "source": [
    "df.groupby('hed')['click'].mean()"
   ]
  },
  {
   "cell_type": "markdown",
   "metadata": {},
   "source": [
    "df_headlines has a list of 4 headlines for the same article from Upworthy. df is a dataframe where each row represents a user. `hed` indicates which headline was shown to the user, and `click` is a binary indicator for whether the user clicked on the headline. A `1` represents a click, and so, for example, headline 2 was clicked on 0.6\\% of the time. Each headline was shown to about 3700 users."
   ]
  },
  {
   "cell_type": "markdown",
   "metadata": {},
   "source": [
    "I recommend reading the following post: https://towardsdatascience.com/ab-testing-with-python-e5964dd66143 (the corresponding jupyter noteebok can be found at https://github.com/renatofillinich/ab_test_guide_in_python)"
   ]
  },
  {
   "cell_type": "markdown",
   "metadata": {},
   "source": [
    "In this homework, we will only be working with the first two headlines:"
   ]
  },
  {
   "cell_type": "code",
   "execution_count": 9,
   "metadata": {},
   "outputs": [],
   "source": [
    "df = df.query('hed==1 or hed==2')"
   ]
  },
  {
   "cell_type": "code",
   "execution_count": 11,
   "metadata": {},
   "outputs": [
    {
     "name": "stdout",
     "output_type": "stream",
     "text": [
      "<class 'pandas.core.frame.DataFrame'>\n",
      "Int64Index: 7450 entries, 1 to 14949\n",
      "Data columns (total 2 columns):\n",
      " #   Column  Non-Null Count  Dtype\n",
      "---  ------  --------------  -----\n",
      " 0   hed     7450 non-null   int64\n",
      " 1   click   7450 non-null   int64\n",
      "dtypes: int64(2)\n",
      "memory usage: 174.6 KB\n"
     ]
    },
    {
     "data": {
      "text/html": [
       "<div>\n",
       "<style scoped>\n",
       "    .dataframe tbody tr th:only-of-type {\n",
       "        vertical-align: middle;\n",
       "    }\n",
       "\n",
       "    .dataframe tbody tr th {\n",
       "        vertical-align: top;\n",
       "    }\n",
       "\n",
       "    .dataframe thead th {\n",
       "        text-align: right;\n",
       "    }\n",
       "</style>\n",
       "<table border=\"1\" class=\"dataframe\">\n",
       "  <thead>\n",
       "    <tr style=\"text-align: right;\">\n",
       "      <th></th>\n",
       "      <th>hed</th>\n",
       "      <th>click</th>\n",
       "    </tr>\n",
       "  </thead>\n",
       "  <tbody>\n",
       "    <tr>\n",
       "      <th>1</th>\n",
       "      <td>1</td>\n",
       "      <td>0</td>\n",
       "    </tr>\n",
       "    <tr>\n",
       "      <th>2</th>\n",
       "      <td>1</td>\n",
       "      <td>0</td>\n",
       "    </tr>\n",
       "    <tr>\n",
       "      <th>3</th>\n",
       "      <td>2</td>\n",
       "      <td>0</td>\n",
       "    </tr>\n",
       "    <tr>\n",
       "      <th>8</th>\n",
       "      <td>2</td>\n",
       "      <td>0</td>\n",
       "    </tr>\n",
       "    <tr>\n",
       "      <th>9</th>\n",
       "      <td>1</td>\n",
       "      <td>0</td>\n",
       "    </tr>\n",
       "    <tr>\n",
       "      <th>...</th>\n",
       "      <td>...</td>\n",
       "      <td>...</td>\n",
       "    </tr>\n",
       "    <tr>\n",
       "      <th>14941</th>\n",
       "      <td>1</td>\n",
       "      <td>0</td>\n",
       "    </tr>\n",
       "    <tr>\n",
       "      <th>14944</th>\n",
       "      <td>1</td>\n",
       "      <td>0</td>\n",
       "    </tr>\n",
       "    <tr>\n",
       "      <th>14945</th>\n",
       "      <td>2</td>\n",
       "      <td>0</td>\n",
       "    </tr>\n",
       "    <tr>\n",
       "      <th>14948</th>\n",
       "      <td>2</td>\n",
       "      <td>0</td>\n",
       "    </tr>\n",
       "    <tr>\n",
       "      <th>14949</th>\n",
       "      <td>2</td>\n",
       "      <td>0</td>\n",
       "    </tr>\n",
       "  </tbody>\n",
       "</table>\n",
       "<p>7450 rows × 2 columns</p>\n",
       "</div>"
      ],
      "text/plain": [
       "       hed  click\n",
       "1        1      0\n",
       "2        1      0\n",
       "3        2      0\n",
       "8        2      0\n",
       "9        1      0\n",
       "...    ...    ...\n",
       "14941    1      0\n",
       "14944    1      0\n",
       "14945    2      0\n",
       "14948    2      0\n",
       "14949    2      0\n",
       "\n",
       "[7450 rows x 2 columns]"
      ]
     },
     "execution_count": 11,
     "metadata": {},
     "output_type": "execute_result"
    }
   ],
   "source": [
    "df.info()"
   ]
  },
  {
   "cell_type": "markdown",
   "metadata": {},
   "source": [
    "# Problem 1: Simple A/B tests, and dependence on sample size"
   ]
  },
  {
   "cell_type": "markdown",
   "metadata": {},
   "source": [
    "## Problem 1a: Simple A/B testing (2 pts)"
   ]
  },
  {
   "cell_type": "markdown",
   "metadata": {},
   "source": [
    "First, what do the results look like if we use all the data?"
   ]
  },
  {
   "cell_type": "markdown",
   "metadata": {},
   "source": [
    "Here, you will want to use the functions under \"4. Testing the hypothesis\" in the above blog post. In particular you will want to test the \"1 sided\" hypothesis that headline 1 is better than headline 2. (In statsmodels.stats.proportion.proportions_ztest, use alternative='larger', and put headline 1 first in the data.)\n",
    "\n",
    "https://www.statsmodels.org/stable/generated/statsmodels.stats.proportion.proportions_ztest.html\n"
   ]
  },
  {
   "cell_type": "markdown",
   "metadata": {},
   "source": [
    "<font color='green'> If you use all the data (all the entries in the dataframe), what is the mean click through rate for each headline?"
   ]
  },
  {
   "cell_type": "code",
   "execution_count": 24,
   "metadata": {},
   "outputs": [
    {
     "data": {
      "text/plain": [
       "hed\n",
       "1    0.010650\n",
       "2    0.006497\n",
       "Name: click, dtype: float64"
      ]
     },
     "execution_count": 24,
     "metadata": {},
     "output_type": "execute_result"
    }
   ],
   "source": [
    "mean_click=df.groupby('hed')['click'].mean()\n",
    "mean_click"
   ]
  },
  {
   "cell_type": "markdown",
   "metadata": {},
   "source": [
    "<font color='green'> If you use all the data, what is the p-value for the hypothesis that the first headline is better than the second headline?"
   ]
  },
  {
   "cell_type": "code",
   "execution_count": 32,
   "metadata": {},
   "outputs": [
    {
     "name": "stdout",
     "output_type": "stream",
     "text": [
      "z statistic: 1.94\n",
      "p-value: 0.026\n"
     ]
    }
   ],
   "source": [
    "from statsmodels.stats.proportion import proportions_ztest, proportion_confint\n",
    "\n",
    "group=df.groupby('hed')['click'].mean()\n",
    "control=df[df['hed']==2]['click']\n",
    "treatment=df[df['hed']==1]['click']\n",
    "\n",
    "n_con=control.count()\n",
    "n_treat=treatment.count()\n",
    "success=[treatment.sum(),control.sum()]\n",
    "nobs=[n_treat,n_con]\n",
    "\n",
    "z_stat, pval = proportions_ztest(success,nobs=nobs,alternative='larger')\n",
    "\n",
    "print(f'z statistic: {z_stat:.2f}')\n",
    "print(f'p-value: {pval:.3f}')\n"
   ]
  },
  {
   "cell_type": "markdown",
   "metadata": {},
   "source": [
    "<font color='green'> If you use all the data, what are the 95% confidence intervals for the click through rates for each headline?\n",
    "\n",
    "For example, we got Headline 1: (0.0074, 0.0139)"
   ]
  },
  {
   "cell_type": "code",
   "execution_count": 34,
   "metadata": {},
   "outputs": [
    {
     "name": "stdout",
     "output_type": "stream",
     "text": [
      "ci 95% for control group: [0.0074,0.0139]\n",
      "ci 95% for treatment group: [0.0039,0.0091]\n"
     ]
    }
   ],
   "source": [
    "(lower_con, lower_treat), (upper_con, upper_treat) = proportion_confint(success, nobs=nobs, alpha=0.05)\n",
    "print(f'ci 95% for control group: [{lower_con:.4f},{upper_con:.4f}]')\n",
    "print(f'ci 95% for treatment group: [{lower_treat:.4f},{upper_treat:.4f}]')"
   ]
  },
  {
   "cell_type": "markdown",
   "metadata": {},
   "source": [
    "<font color='green'> Interpret the above, in no more than 3 sentences"
   ]
  },
  {
   "cell_type": "markdown",
   "metadata": {},
   "source": [
    "The p-value is less than 0.05, so we have 95% confidence that the headline 1 helps us get more clicks than headline 2. If the click mean of headline 1 is included in the 95% confidence interval, that is [0.0074,0.0139], and the click mean of headline 2 is included in [0.0039,0.0091], we can always get the same result."
   ]
  },
  {
   "cell_type": "markdown",
   "metadata": {},
   "source": [
    "## Problem 1b: Experimentation with lower sample sizes (2 pts)"
   ]
  },
  {
   "cell_type": "markdown",
   "metadata": {},
   "source": [
    "Now, we'll see how often we would make the \"wrong\" decision if we instead had run an experiment with a lower sample size. We do this via a method called \"bootstrapping\" -- we 're-sample' from the data that we actually saw, in order to estimate what would have happened via counter-factual experiments.  "
   ]
  },
  {
   "cell_type": "markdown",
   "metadata": {},
   "source": [
    "<font color='green'> Complete the following function, which does the following: it simulates 1000 fake experiments; each fake experiment, we sample `overall_sample_size` users and pretend that those users made up the experiment. \n",
    "    \n",
    "<font color='green'> We want to store:\n",
    "    \n",
    "- the distribution of click-through-rate estimates for each headline (we do this for you)\n",
    "\n",
    "- the fraction of experiments in which headline 1 was found to be better than headline 2\n",
    "\n",
    "Here, we're going to say the experiment found that headline 1 was better than headline 2 if it had a higher click fraction, even if it wasn't statistically significant (regardless of p value)."
   ]
  },
  {
   "cell_type": "code",
   "execution_count": 87,
   "metadata": {},
   "outputs": [],
   "source": [
    "def get_estimates_from_bootstrapping(df, overall_sample_size = 100):\n",
    "    estimates = {hed: [] for hed in df.hed.unique()} # for each headline, store the mean estimates\n",
    "    number_of_headlines_1_better_than_2 = 0\n",
    "    for _ in range(1000): # simulate 1000 fake experiments (\"bootstrapping\")\n",
    "        df_sample = df.sample(overall_sample_size)\n",
    "        means = df_sample.groupby('hed')['click'].mean()\n",
    "        for en, mean in enumerate(means):\n",
    "            estimates[en+1].append(mean)\n",
    "        ### TODO complete code here for number_of_headlines_1_better_than_2\n",
    "        if estimates[1][-1]>estimates[2][-1]:\n",
    "            number_of_headlines_1_better_than_2+=1\n",
    "    return estimates, number_of_headlines_1_better_than_2/1000\n",
    "    "
   ]
  },
  {
   "cell_type": "markdown",
   "metadata": {},
   "source": [
    "<font color='green'> For each of overall_sample_size in [100, 1000, 5000] plot a histogram of the estimates for each headline. You should have 3 plots, each plot corresponding to 1 sample size number and containing 2 histograms, 1 for each headline.\n",
    "\n",
    "\n"
   ]
  },
  {
   "cell_type": "code",
   "execution_count": 90,
   "metadata": {},
   "outputs": [],
   "source": [
    "df100,num100=get_estimates_from_bootstrapping(df, overall_sample_size = 100)\n",
    "df1000,num1000=get_estimates_from_bootstrapping(df, overall_sample_size = 1000)\n",
    "df5000,num5000=get_estimates_from_bootstrapping(df, overall_sample_size = 5000)"
   ]
  },
  {
   "cell_type": "code",
   "execution_count": 91,
   "metadata": {
    "scrolled": false
   },
   "outputs": [
    {
     "data": {
      "image/png": "[encoded data removed]",
      "text/plain": [
       "<Figure size 640x480 with 1 Axes>"
      ]
     },
     "metadata": {},
     "output_type": "display_data"
    },
    {
     "data": {
      "image/png": "[encoded data removed]",
      "text/plain": [
       "<Figure size 640x480 with 1 Axes>"
      ]
     },
     "metadata": {},
     "output_type": "display_data"
    },
    {
     "data": {
      "image/png": "[encoded data removed]",
      "text/plain": [
       "<Figure size 640x480 with 1 Axes>"
      ]
     },
     "metadata": {},
     "output_type": "display_data"
    },
    {
     "data": {
      "image/png": "[encoded data removed]",
      "text/plain": [
       "<Figure size 640x480 with 1 Axes>"
      ]
     },
     "metadata": {},
     "output_type": "display_data"
    },
    {
     "data": {
      "image/png": "[encoded data removed]",
      "text/plain": [
       "<Figure size 640x480 with 1 Axes>"
      ]
     },
     "metadata": {},
     "output_type": "display_data"
    },
    {
     "data": {
      "image/png": "[encoded data removed]",
      "text/plain": [
       "<Figure size 640x480 with 1 Axes>"
      ]
     },
     "metadata": {},
     "output_type": "display_data"
    }
   ],
   "source": [
    "import matplotlib.pyplot as plt\n",
    "\n",
    "def hist(df,num,sample):\n",
    "    data = df[num]\n",
    "\n",
    "    plt.hist(data, bins=20, edgecolor='k') \n",
    "    plt.title('Histogram of '+str(sample)+' samples for headline '+ str(num))\n",
    "    plt.show()\n",
    "hist(df100,1,100)\n",
    "hist(df100,2,100)\n",
    "hist(df1000,1,1000)\n",
    "hist(df1000,2,1000)\n",
    "hist(df5000,1,5000)\n",
    "hist(df5000,2,5000)"
   ]
  },
  {
   "cell_type": "code",
   "execution_count": 92,
   "metadata": {},
   "outputs": [],
   "source": [
    "sample_size_numbers = list(range(100, 6000, 500))"
   ]
  },
  {
   "cell_type": "markdown",
   "metadata": {},
   "source": [
    "<font color='green'> For each of overall_sample_size in sample_size_numbers, get the fraction of experiments in which headline 1 was found to be better than headline 2. Plot a line plot where the X axis is the sample size, and the Y axis is the fraction of times. Note that this code might take a minute or so to run. Note: your line plot should be increasing in the sample size (Why?)\n",
    "\n",
    "For example, with 100 samples, we got: ~0.36. For 1100 samples, we got  0.788. \n"
   ]
  },
  {
   "cell_type": "code",
   "execution_count": 95,
   "metadata": {},
   "outputs": [
    {
     "name": "stdout",
     "output_type": "stream",
     "text": [
      "[100, 600, 1100, 1600, 2100, 2600, 3100, 3600, 4100, 4600, 5100, 5600] [0.363, 0.707, 0.778, 0.836, 0.886, 0.922, 0.959, 0.969, 0.983, 0.993, 0.997, 1.0]\n"
     ]
    },
    {
     "data": {
      "image/png": "[encoded data removed]",
      "text/plain": [
       "<Figure size 640x480 with 1 Axes>"
      ]
     },
     "metadata": {},
     "output_type": "display_data"
    }
   ],
   "source": [
    "x=sample_size_numbers\n",
    "Y=[]\n",
    "for num in x:\n",
    "    dfx,numx=get_estimates_from_bootstrapping(df, overall_sample_size = num)\n",
    "    Y.append(numx)\n",
    "print(x,Y)\n",
    "\n",
    "plt.plot(x, Y)\n",
    "plt.xlabel('Sample Size') \n",
    "plt.ylabel('Fraction of Times') \n",
    "plt.show() "
   ]
  },
  {
   "cell_type": "markdown",
   "metadata": {},
   "source": [
    "<font color='green'> Intepret the above, in no more than 3 sentences."
   ]
  },
  {
   "cell_type": "markdown",
   "metadata": {},
   "source": [
    "The results show that when the sample size is larger, the average result obtained by sampling in each experiment is closer to the real situation, more credible and stable. In the end, the sample size was very large. In 1,000 experiments, the result obtained every time was that headline 1 had a higher average clicks than headline 2."
   ]
  },
  {
   "cell_type": "markdown",
   "metadata": {},
   "source": [
    "## Problem 2: Peeking (4 points)"
   ]
  },
  {
   "cell_type": "markdown",
   "metadata": {},
   "source": [
    "Now, we'll illustrate the problem of \"peeking\" in experiments. Suppose you're a headline writer, and you personally wrote headline 2 and are now running the AB test. So, you have a maximum experiment budget of 2000 users. Each user comes in sequentially and is assigned either the first or second headline. Now, you also realize that experimentation is wasteful, and so you want to minimize the amount of time you're spending in the experiment.\n",
    "\n",
    "So, you do the following: after each 20th user comes in and either clicks on the headline or doesn't, you check if headline 2 has a higher click fraction than headline 1. If it does, you declare victory and stop the experiment. Otherwise, you continue. \n",
    "\n",
    "Now, we'll want to calculate: how often does the above procedure lead to you declaring victory, that headline 2 is better than headline 1?\n",
    "\n",
    "Here, we will walk you through simulating the above procedure. As before, we will simulate 1000 fake experiments, to get a good estimate of what the above procedure behaves like.  "
   ]
  },
  {
   "cell_type": "markdown",
   "metadata": {},
   "source": [
    "<font color='green'> Finish the below code, to calculate number_of_headlines_2_better_than_1 using the above procedure"
   ]
  },
  {
   "cell_type": "code",
   "execution_count": 114,
   "metadata": {},
   "outputs": [
    {
     "name": "stdout",
     "output_type": "stream",
     "text": [
      "0.677\n"
     ]
    }
   ],
   "source": [
    "number_of_headlines_2_better_than_1 = 0\n",
    "\n",
    "for _ in range(1000): # simulate 1000 fake experiments\n",
    "    df_sample = df.sample(2000)\n",
    "    for number_users in range(20, 2001, 20):\n",
    "        df_users_to_far = df_sample.iloc[0:number_users] #grab the first number_users users\n",
    "        #TODO: calculate click fractions for each headline\n",
    "        if 1 not in df_users_to_far['hed'].values or 2 not in df_users_to_far['hed'].values:\n",
    "            \n",
    "            continue\n",
    "        else:\n",
    "            estimates = {hed: [] for hed in df.hed.unique()} # for each headline, store the mean estimates\n",
    "            means = df_users_to_far.groupby('hed')['click'].mean()\n",
    "            #print(means)\n",
    "            for en, mean in enumerate(means):\n",
    "                estimates[en+1].append(mean)\n",
    "            ### TODO complete code here for number_of_headlines_1_better_than_2\n",
    "            if estimates[2][-1]>estimates[1][-1]:\n",
    "                number_of_headlines_2_better_than_1+=1\n",
    "                break\n",
    "print(number_of_headlines_2_better_than_1/1000)\n",
    "        #TODO potentially end experiment. The \"break\" keyword in python might come in handy.\n",
    "        # Note that you want to break the inner for loop but not the outer loop (think why). \n",
    "        # Note, you sometimes may get \"unlucky\", and all the first 20 users received the same headline. In that case, continue the experiment without checking the p-value"
   ]
  },
  {
   "cell_type": "markdown",
   "metadata": {},
   "source": [
    "<font color='green'> What fraction of the time does the above procedure declare that headline 2 is better than headline 1?"
   ]
  },
  {
   "cell_type": "markdown",
   "metadata": {},
   "source": [
    "67.7%"
   ]
  },
  {
   "cell_type": "markdown",
   "metadata": {},
   "source": [
    "<font color='green'> Interpret the above answer, in no more than 3 sentences. What went wrong?"
   ]
  },
  {
   "cell_type": "markdown",
   "metadata": {},
   "source": [
    "If we wait long enough, there is a high chance of an eventually inconclusive result looking “significant” along the way but in fact, it might be not significant. When we stop the experiment too early, a peek problem occurs, and there is a high probability that we will get results that are inconsistent with the facts."
   ]
  },
  {
   "cell_type": "markdown",
   "metadata": {},
   "source": [
    "Note: In practice, peeking involves not just taking the mean click percentage but also calculating a p-value and only exiting the experiment if the desired direction is statistically significantly better than the other one. Similar results occur in that setting."
   ]
  },
  {
   "cell_type": "markdown",
   "metadata": {},
   "source": []
  }
 ],
 "metadata": {
  "kernelspec": {
   "display_name": "Python 3 (ipykernel)",
   "language": "python",
   "name": "python3"
  },
  "language_info": {
   "codemirror_mode": {
    "name": "ipython",
    "version": 3
   },
   "file_extension": ".py",
   "mimetype": "text/x-python",
   "name": "python",
   "nbconvert_exporter": "python",
   "pygments_lexer": "ipython3",
   "version": "3.11.4"
  },
  "varInspector": {
   "cols": {
    "lenName": 16,
    "lenType": 16,
    "lenVar": 40
   },
   "kernels_config": {
    "python": {
     "delete_cmd_postfix": "",
     "delete_cmd_prefix": "del ",
     "library": "var_list.py",
     "varRefreshCmd": "print(var_dic_list())"
    },
    "r": {
     "delete_cmd_postfix": ") ",
     "delete_cmd_prefix": "rm(",
     "library": "var_list.r",
     "varRefreshCmd": "cat(var_dic_list()) "
    }
   },
   "types_to_exclude": [
    "module",
    "function",
    "builtin_function_or_method",
    "instance",
    "_Feature"
   ],
   "window_display": false
  },
  "vscode": {
   "interpreter": {
    "hash": "08c7ecce80b69c620dde7c8919fa94d3baa2217d665b4d1ca74ed6f93561aaf3"
   }
  }
 },
 "nbformat": 4,
 "nbformat_minor": 4
}
